{
  "nbformat": 4,
  "nbformat_minor": 0,
  "metadata": {
    "colab": {
      "name": "Untitled1.ipynb",
      "provenance": []
    },
    "kernelspec": {
      "name": "python3",
      "display_name": "Python 3"
    },
    "language_info": {
      "name": "python"
    }
  },
  "cells": [
    {
      "cell_type": "code",
      "execution_count": 1,
      "metadata": {
        "id": "guefGKg4VbZr"
      },
      "outputs": [],
      "source": [
        "import numpy as np\n",
        "import matplotlib.pyplot as plt\n",
        "from numpy.random import *"
      ]
    },
    {
      "cell_type": "code",
      "source": [
        "ND=64  #1辺の差分分割数"
      ],
      "metadata": {
        "id": "8yq05cIzVdYd"
      },
      "execution_count": 2,
      "outputs": []
    },
    {
      "cell_type": "code",
      "source": [
        "# 初期濃度場の生成\n",
        "def init():\n",
        "    for i in range(ND):\n",
        "        for j in range(ND):\n",
        "            ch[i][j]=c0+0.01*(2.0*rand()-1.0)\n",
        "    return ch"
      ],
      "metadata": {
        "id": "mNt5NfGdVe7G"
      },
      "execution_count": 3,
      "outputs": []
    },
    {
      "cell_type": "code",
      "source": [
        "# 計算条件における定数の設定\n",
        "ndm=ND-1\n",
        "\n",
        "ch=[[0.0 for i in range(ND)] for j in range(ND)]\n",
        "ch2=[[0.0 for i in range(ND)] for j in range(ND)]\n",
        "ck=[[0.0 for i in range(ND)] for j in range(ND)]\n",
        "\n",
        "c0=0.4 # 合金組成（B成分のモル分率）\n",
        "al=60.0*1.e-9 # 二次元計算領域一辺の長さ[m]\n",
        "b1=al/ND # 差分ブロック一辺の長さ[m]\n",
        "\n",
        "time1=0 # 初期時間（実時間ではなく繰り返し回数）\n",
        "time1max=10000 # 終了時間（実時間ではなく繰り返し回数）\n",
        "delt=0.01 # 時間きざみ[無次元]\n",
        "\n",
        "rr=8.3145 # ガス定数[J／（mol K）]\n",
        "temp=1000. # 時効温度[K]\n",
        "rtemp=rr*temp # エネルギーの規格化定数RT[J/mol]\n",
        "\n",
        "L0=25000.0/rtemp # 原子間相互作用パラメータ[J/mol]/RT\n",
        "kappa_c=5.0e-15/b1/b1/rtemp # 濃度勾配エネルギー係数[Jm^2/mol]/b1^2/RT\n",
        "\n",
        "Mc=c0*(1.0-c0) # 原子拡散の易動度[無次元]"
      ],
      "metadata": {
        "id": "S9479EwcVhU-"
      },
      "execution_count": 4,
      "outputs": []
    },
    {
      "cell_type": "code",
      "source": [
        "# 初期濃度場の設定\n",
        "ch=init()"
      ],
      "metadata": {
        "id": "LZl2caJpVl-b"
      },
      "execution_count": 5,
      "outputs": []
    },
    {
      "cell_type": "code",
      "source": [
        "# 濃度場の時間発展の計算ループ\n",
        "for time1 in range(time1max):\n",
        "\n",
        "#******[ポテンシャルの計算]**************************************\n",
        "    for i in range(ND):\n",
        "        for j in range(ND):\n",
        "            ip=i+1 #周期的境界条件\n",
        "            im=i-1\n",
        "            jp=j+1\n",
        "            jm=j-1\n",
        "            if i==ndm:\n",
        "                ip=0\n",
        "            if i==0:\n",
        "                im=ndm  \n",
        "            if j==ndm:\n",
        "                jp=0\n",
        "            if j==0:\n",
        "               jm=ndm\n",
        "\n",
        "            mu_chem=L0*(1.0-2.0*ch[i][j])+np.log(ch[i][j])-np.log(1.-ch[i][j]) #化学ポテンシャルの差\n",
        "            mu_surf=-2.0*kappa_c*(ch[ip][j]+ch[im][j]+ch[i][jp]+ch[i][jm]-4.0*ch[i][j]) #濃度勾配エネルギーポテンシャル\n",
        "            ck[i][j]=mu_chem+mu_surf #拡散ポテンシャル\n",
        "\n",
        "#******[発展方程式の計算]**************************************\n",
        "    for i in range(ND):\n",
        "        for j in range(ND):\n",
        "            ip=i+1 #周期的境界条件\n",
        "            im=i-1\n",
        "            jp=j+1\n",
        "            jm=j-1\n",
        "            if i==ndm:\n",
        "                ip=0\n",
        "            if i==0:\n",
        "                im=ndm  \n",
        "            if j==ndm:\n",
        "                jp=0\n",
        "            if j==0:\n",
        "               jm=ndm\n",
        "            cddtt=Mc*(ck[ip][j]+ck[im][j]+ck[i][jp]+ck[i][jm]-4.0*ck[i][j]) #非線形拡散方程式 式(6-12)\n",
        "            ch2[i][j]=ch[i][j] + cddtt * delt #陽解法\n",
        "\n",
        "\n",
        "    sumc=0.0 #濃度場の収支補正\n",
        "    for i in range(ND):\n",
        "        for j in range(ND):\n",
        "            sumc+=ch2[i][j]\n",
        "    dc0=sumc/ND/ND-c0\n",
        "    for i in range(ND):\n",
        "        for j in range(ND):\n",
        "            ch[i][j]=ch2[i][j]-dc0\n",
        "            if ch[i][j]>=1.0: # 濃度変域の補正\n",
        "                ch[i][j]=0.99999\n",
        "            if ch[i][j]<=0.0:\n",
        "                ch[i][j]=0.00001\n",
        "\n",
        "# 描画\n",
        "    if time1 % 200 == 0:  # 200タイムステップごとに描画\n",
        "        plt.clf()  # 描画内容クリア\n",
        "        plt.imshow(ch)  # 濃度場の描画\n",
        "        plt.clim(0, 1)  # カラースケールの最大、最小の設定\n",
        "        plt.pause(0.01) # 0.01秒間表示\n"
      ],
      "metadata": {
        "id": "QxFZ9Ct3WoAf"
      },
      "execution_count": null,
      "outputs": []
    }
  ]
}
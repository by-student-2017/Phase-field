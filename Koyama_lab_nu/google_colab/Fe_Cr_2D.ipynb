{
  "nbformat": 4,
  "nbformat_minor": 0,
  "metadata": {
    "colab": {
      "name": "Untitled2.ipynb",
      "provenance": []
    },
    "kernelspec": {
      "name": "python3",
      "display_name": "Python 3"
    },
    "language_info": {
      "name": "python"
    }
  },
  "cells": [
    {
      "cell_type": "code",
      "execution_count": 1,
      "metadata": {
        "id": "haS1tMuDXC2Z"
      },
      "outputs": [],
      "source": [
        "import numpy as np\n",
        "import matplotlib.pyplot as plt"
      ]
    },
    {
      "cell_type": "code",
      "source": [
        "ND = 64  # 1辺の差分分割数"
      ],
      "metadata": {
        "id": "USIQLgm6XGnv"
      },
      "execution_count": 2,
      "outputs": []
    },
    {
      "cell_type": "code",
      "source": [
        "# 計算1ステップ\n",
        "def step(cc):\n",
        "    res = cc + delt * ( dcdt(cc) + c_flu*(2 * np.random.rand(ND, ND) - 1.) )\t#濃度場の時間発展（濃度揺らぎ導入）\n",
        "    # res = cc + delt * dcdt(cc)\n",
        "    res = comp(res)\n",
        "    return res"
      ],
      "metadata": {
        "id": "eKJbLELTXHRS"
      },
      "execution_count": 3,
      "outputs": []
    },
    {
      "cell_type": "code",
      "source": [
        "# 濃度場の時間微分\n",
        "def dcdt(cc):\n",
        "    return Mc*laplacian(diff_pot(cc))"
      ],
      "metadata": {
        "id": "AgYJqD-kXJeh"
      },
      "execution_count": 4,
      "outputs": []
    },
    {
      "cell_type": "code",
      "source": [
        "# 拡散ポテンシャルの計算\n",
        "def diff_pot(cc):\n",
        "    c1=1.0-cc\n",
        "    c2=cc\n",
        "    mu_chem=L0*(c1-c2)+np.log(c2)-np.log(c1)\t\t#化学ポテンシャル差\n",
        "    mu_surf=-2.0*kappa_c*laplacian(cc)\t\t#濃度勾配のポテンシャル\n",
        "    mu_str=2.0*eta*eta*y100*(c2-c0) \t\t#弾性ポテンシャル\n",
        "\n",
        "    Tc=TcFe*c1+TcCr*c2+c1*c2*(TcCrFe0+TcCrFe1*(c2-c1)) #Curie温度\n",
        "    d2Tc=-TcFe+TcCr+2.0*TcCrFe1*c1*c2+(c1-c2)*(TcCrFe0+TcCrFe1*(c2-c1)) #TcのCr組成微分\n",
        "    Bc=BcFe*c1+BcCr*c2+BcCrFe0*c1*c2 #１原子当たりの磁化の強さ（ボーア磁子で無次元化）\n",
        "    d2Bc=-BcFe+BcCr+BcCrFe0*(c1-c2) #BcのCr組成微分\n",
        "\n",
        "\n",
        "    Tc = np.where(Tc<0.0,-Tc,Tc)\n",
        "    d2Tc = np.where(Tc<0.0,-d2Tc,d2Tc)\n",
        "    Bc = np.where(Bc<0.0,-Bc,Bc)\n",
        "    d2Bc = np.where(Bc<0.0,-d2Bc,d2Bc)\n",
        "\n",
        "    tau=temp/Tc #τの定義\n",
        "\n",
        "    ftau = np.where(tau<=1.0,\n",
        "            1.0-1.0/D_mag*(79.0/140.0/p_mag/tau+474.0/497.0*(1.0/p_mag-1.0)*( np.power(tau,3.0)/6.0+np.power(tau,9.0)/135.0+np.power(tau,15.0)/600.0) ),\n",
        "            -1.0/D_mag*(np.power(tau,-5.0)/10.0+np.power(tau,-15.0)/315.0+np.power(tau,-25.0)/1500.0)\n",
        "            )\n",
        "\n",
        "    dftau = np.where(tau<=1.0,\n",
        "            -1.0/D_mag*(-79.0/140.0/p_mag/tau/tau+474.0/497.0*(1.0/p_mag-1.0)*( np.power(tau,2.0)/2.0+np.power(tau,8.0)/15.0+np.power(tau,14.0)/40.0) ),\n",
        "            1.0/D_mag*(np.power(tau,-6.0)/2.0+np.power(tau,-16.0)/21.0+np.power(tau,-26.0)/60.0)\n",
        "            )\n",
        "\n",
        "    mu_mag=ftau/(Bc+1.0)*d2Bc-dftau*tau/Tc*d2Tc*np.log(Bc+1.0) #磁気過剰エネルギーのポテンシャル\n",
        "\n",
        "    return mu_chem + mu_surf + mu_str + mu_mag\n",
        "    #return mu_chem+mu_surf+mu_str"
      ],
      "metadata": {
        "id": "_p42w1ITXLUA"
      },
      "execution_count": 5,
      "outputs": []
    },
    {
      "cell_type": "code",
      "source": [
        "# 二次元のラプラシアン\n",
        "def laplacian(array):\n",
        "    result = -4.0 * array\n",
        "    result += np.roll(array, 1, 0)\n",
        "    result += np.roll(array, -1, 0)\n",
        "    result += np.roll(array, 1, 1)\n",
        "    result += np.roll(array, -1, 1)\n",
        "    return result"
      ],
      "metadata": {
        "id": "OsNPBM7oXSwe"
      },
      "execution_count": 6,
      "outputs": []
    },
    {
      "cell_type": "code",
      "source": [
        "# 濃度補正\n",
        "def comp(cc):\n",
        "    res = cc - (np.average(cc) - c0)  # 濃度場の収支補正\n",
        "    res = np.clip(res, 0.00001, 0.99999)  # 濃度場の範囲補正\n",
        "    return res"
      ],
      "metadata": {
        "id": "O88SIZQOXVIJ"
      },
      "execution_count": 7,
      "outputs": []
    },
    {
      "cell_type": "code",
      "source": [
        "#初期場の生成\n",
        "def init():\n",
        "    c = c0 + 0.01 * (2.0 * np.random.rand(ND, ND) - 1.0)\n",
        "    return c\n",
        "\n",
        "\n",
        "al = 30.0 * 1.e-9\n",
        "b1 = al / ND\n",
        "\n",
        "time1 = 0\n",
        "time1max = 20000\n",
        "\n",
        "delt = 0.02\n",
        "\n",
        "temp = 673.0\n",
        "rr = 8.3145\n",
        "rtemp = rr * temp\n",
        "\n",
        "c0 = 0.5\n",
        "\n",
        "cmob = 1.0\n",
        "\n",
        "L0_0=20500.0\t\t#相互作用パラメータ(J/mol)\n",
        "L0_1=-9.68\t\t\t#L=L0_0+L0_1*T\n",
        "L0=(L0_0+L0_1*temp)/rtemp \t#RTで規格化\n",
        "\n",
        "kappa_c = 2.0e-15 / b1 ** 2 / rtemp\n",
        "\n",
        "a01=0.28664e-9 #格子定数(bcc Fe) (m)\n",
        "atomNo=2.0\t\t#単位胞内の原子数\n",
        "vm0=6.02e23*a01*a01*a01/atomNo\t#モル体積\n",
        "\n",
        "eta=0.00614\t#格子ミスマッチ\n",
        "\n",
        "c11a=2.3310e+11 \t#bccFeの弾性定数(Pa)\n",
        "c12a=1.3544e+11\n",
        "c44a=1.1783e+11\n",
        "\n",
        "c11b=3.500e+11 \t#bccCrの弾性定数(Pa)\n",
        "c12b=0.678e+11\n",
        "c44b=1.008e+11\n",
        "\n",
        "c11a=c11a*vm0/rtemp #RTで無次元化\n",
        "c12a=c12a*vm0/rtemp\n",
        "c44a=c44a*vm0/rtemp\n",
        "c11b=c11b*vm0/rtemp\n",
        "c12b=c12b*vm0/rtemp\n",
        "c44b=c44b*vm0/rtemp\n",
        "\n",
        "c11=(1.0-c0)*c11a+c0*c11b\t#合金の弾性率\n",
        "c12=(1.0-c0)*c12a+c0*c12b\n",
        "c44=(1.0-c0)*c44a+c0*c44b\n",
        "\n",
        "y100=c11+c12-2.0*(c12*c12/c11)\t#弾性率の関数Y<100>\n",
        "\n",
        "TcFe=1043.0 #Curie温度関連の係数\n",
        "TcCr=-311.5\n",
        "TcCrFe0=1650.0\n",
        "TcCrFe1=550.0\n",
        "\n",
        "BcFe=2.22\n",
        "BcCr=-0.008\n",
        "BcCrFe0=-0.85 #ボーア磁子関連の係数\n",
        "\n",
        "p_mag=0.4 #(bcc)\n",
        "D_mag=518.0/1125.0+11692.0/15975.0*(1.0/p_mag-1.0)\n",
        "\n",
        "Mc=c0*(1.0-c0) #拡散の易動度\n",
        "c_flu=0.1 #ポテンシャルにおけるゆらぎ\n",
        "\n",
        "c = init()"
      ],
      "metadata": {
        "id": "D7Hbw_t1XX9A"
      },
      "execution_count": 8,
      "outputs": []
    },
    {
      "cell_type": "code",
      "source": [
        "for time1 in range(time1max):\n",
        "    c = step(c)  # 拡散方程式の計算\n",
        "\n",
        "    if time1 % 200 == 0:  # 200タイムステップごとに描画\n",
        "        plt.clf()  # 描画内容クリア\n",
        "        plt.imshow(c)  # 濃度場の描画\n",
        "        plt.clim(0, 1)  # カラースケールの最大、最小の設定\n",
        "        plt.pause(0.01)  #0.01秒間表示"
      ],
      "metadata": {
        "id": "GK_Ek0aGXpgA"
      },
      "execution_count": null,
      "outputs": []
    }
  ]
}
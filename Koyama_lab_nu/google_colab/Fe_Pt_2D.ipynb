{
  "nbformat": 4,
  "nbformat_minor": 0,
  "metadata": {
    "colab": {
      "name": "Untitled3.ipynb",
      "provenance": []
    },
    "kernelspec": {
      "name": "python3",
      "display_name": "Python 3"
    },
    "language_info": {
      "name": "python"
    }
  },
  "cells": [
    {
      "cell_type": "code",
      "execution_count": 1,
      "metadata": {
        "id": "kKc2Le9oXyYF"
      },
      "outputs": [],
      "source": [
        "import numpy as np\n",
        "import matplotlib.pyplot as plt"
      ]
    },
    {
      "cell_type": "code",
      "source": [
        "nd = 128  # 計算領域の１辺の分割数"
      ],
      "metadata": {
        "id": "6Lo4YmK6X00L"
      },
      "execution_count": 2,
      "outputs": []
    },
    {
      "cell_type": "code",
      "source": [
        "RR = 8.3145"
      ],
      "metadata": {
        "id": "mGvjFLXlX4dg"
      },
      "execution_count": 3,
      "outputs": []
    },
    {
      "cell_type": "code",
      "source": [
        "def step(s1, s2):\n",
        "    # 時間変化量の計算\n",
        "    s1ddtt, s2ddtt = dsdt(s1, s2)\n",
        "\n",
        "    # phase fieldの時間発展の計算\n",
        "    s1 = s1 + delt * (s1ddtt + ds_fac * (2.0 * np.random.rand(nd, nd) - 1.0))\n",
        "    s2 = s2 + delt * (s2ddtt + ds_fac * (2.0 * np.random.rand(nd, nd) - 1.0))\n",
        "\n",
        "    # sの変域(0<=s<=1)の補正\n",
        "    s1, s2 = comp(s1, s2)\n",
        "    return s1, s2"
      ],
      "metadata": {
        "id": "FiYB3tlvX-p7"
      },
      "execution_count": 4,
      "outputs": []
    },
    {
      "cell_type": "code",
      "source": [
        "def dsdt(s1, s2):\n",
        "    # 勾配ポテンシャル\n",
        "    s1k_su = -kappa_s1 * laplacian(s1)\n",
        "    s2k_su = -kappa_s2 * laplacian(s2)\n",
        "\n",
        "    # 態歪場のフ−リエ変換 ep11\n",
        "    ep110 = eta_s1[1, 1] * s1 ** 2 + eta_s2[1, 1] * s2 ** 2\n",
        "    ep11q0 = np.fft.fft2(ep110)\n",
        "\n",
        "    # 変態歪場のフ−リエ変換 ep22\n",
        "    ep220 = eta_s1[2, 2] * s1 ** 2 + eta_s2[2, 2] * s2 ** 2\n",
        "    ep22q0 = np.fft.fft2(ep220)\n",
        "\n",
        "    # 変態歪場の平均値の算出\n",
        "    ep11_0 = np.average(ep110)\n",
        "    ep22_0 = np.average(ep220)\n",
        "\n",
        "    # 拘束歪変動量ec11の計算\n",
        "    ec11 = np.fft.ifft2(Z11ep * ep11q0 + Z12ep * ep22q0).real\n",
        "\n",
        "    # 拘束歪変動量ec22の計算\n",
        "    ec22 = np.fft.ifft2(Z21ep * ep11q0 + Z22ep * ep22q0).real\n",
        "\n",
        "    # ポテンシャルと発展方程式の計算\n",
        "\n",
        "    # 化学ポテンシャルの計算\n",
        "    s12 = s1 ** 2  # 演算回数の削減のため、先に計算\n",
        "    s13 = s1 * s12\n",
        "    s22 = s2 ** 2\n",
        "    s23 = s2 * s22\n",
        "    s1k_chem = AA0 * AA1 * s1 + AA0 * AA2 * s13 + AA0 * AA3 * s12 * s13 + AA0 * AA4 * s1 * s22 + AA0 * AA5 * s1 * s22 * (\n",
        "            2.0 * s12 + s22)\n",
        "    s2k_chem = AA0 * AA1 * s2 + AA0 * AA2 * s23 + AA0 * AA3 * s22 * s23 + AA0 * AA4 * s2 * s12 + AA0 * AA5 * s2 * s12 * (\n",
        "            2.0 * s22 + s12)\n",
        "\n",
        "    # 弾性ポテンシャルの計算\n",
        "    ep11T = ep110 - ep11_0 - ec11 - ep11_a\n",
        "    ep22T = ep220 - ep22_0 - ec22 - ep22_a\n",
        "    s1k_str = 2.0 * s1 * (ep11T * ((lam0 + 2.0 * mu0) * eta_s1[1, 1] + lam0 * eta_s1[2, 2]) + ep22T * (\n",
        "            (lam0 + 2.0 * mu0) * eta_s1[2, 2] + lam0 * eta_s1[1, 1]))\n",
        "    s2k_str = 2.0 * s2 * (ep11T * ((lam0 + 2.0 * mu0) * eta_s2[1, 1] + lam0 * eta_s2[2, 2]) + ep22T * (\n",
        "            (lam0 + 2.0 * mu0) * eta_s2[2, 2] + lam0 * eta_s2[1, 1]))\n",
        "\n",
        "    s1ddtt = -smob * (s1k_chem + s1k_su + s1k_str)\n",
        "    s2ddtt = -smob * (s2k_chem + s2k_su + s2k_str)\n",
        "\n",
        "    return s1ddtt, s2ddtt"
      ],
      "metadata": {
        "id": "AeLEaC1RYAh3"
      },
      "execution_count": 5,
      "outputs": []
    },
    {
      "cell_type": "code",
      "source": [
        "# 二次元のラプラシアン\n",
        "def laplacian(array):\n",
        "    result = -4 * array  # 元の配列の-4倍の配列を用意\n",
        "    result += np.roll(array, 1, 0)  # それぞれの軸に対して-1, 1要素ずつずらした配列を足し込む(境界は周期境界)\n",
        "    result += np.roll(array, -1, 0)\n",
        "    result += np.roll(array, 1, 1)\n",
        "    result += np.roll(array, -1, 1)\n",
        "    return result"
      ],
      "metadata": {
        "id": "aPhFhx5AYG93"
      },
      "execution_count": 6,
      "outputs": []
    },
    {
      "cell_type": "code",
      "source": [
        "def comp(s1, s2):\n",
        "    s1 = np.clip(s1, -1., 1.)\n",
        "    s2 = np.clip(s2, -1., 1.)\n",
        "    return s1, s2"
      ],
      "metadata": {
        "id": "71tgwcPXYJYM"
      },
      "execution_count": 7,
      "outputs": []
    },
    {
      "cell_type": "code",
      "source": [
        "def init():\n",
        "    fac1 = 0.9\n",
        "    s1 = fac1 * (2. * np.random.rand(nd, nd) - 1.)\n",
        "    s2 = fac1 * (2. * np.random.rand(nd, nd) - 1.)\n",
        "    return s1, s2"
      ],
      "metadata": {
        "id": "YrgJ2TstYLTQ"
      },
      "execution_count": 8,
      "outputs": []
    },
    {
      "cell_type": "code",
      "source": [
        "delt = 0.05  # 時間きざみ入力\n",
        "\n",
        "temp = 873.0  # 温度[K]\n",
        "al = 200.0 * 1.0e-09  # 計算領域[m]\n",
        "b1 = al / nd  # 差分ブロックの長さ[m]\n",
        "\n",
        "time1 = 0\n",
        "time1max = 10000\n",
        "\n",
        "smob = 1.0  # マルテンサイト変態ダイナミクスの緩和係数\n",
        "ds_fac = 0.1  # pase fieldの揺らぎ係数\n",
        "\n",
        "AA0 = 3.82027e+03  # マルテンサイト変態の化学的駆動力[J/mol]\n",
        "AA0 = AA0 / RR / temp  # 無次元化\n",
        "AA1 = 0.1  # 化学的駆動力定数\n",
        "AA2 = -4.0 * AA1 - 12.0\n",
        "AA3 = 3.0 * AA1 + 12.0\n",
        "AA4 = AA5 = AA6 = 4.0\n",
        "\n",
        "kappa_s1 = 1.5e-14  # 勾配エネルギ−定数[Jm^2/mol]\n",
        "kappa_s1 = kappa_s1 / RR / temp / b1 ** 2  # 無次元化\n",
        "kappa_s2 = kappa_s1\n",
        "\n",
        "a1_c = b1_c = c1_c = 3.6468e-10  # Fe(fcc)の格子定数[nm]\n",
        "atom_n = 4.0\n",
        "vm0 = 6.02E23 * a1_c * b1_c * c1_c / atom_n  # モル体積の計算（fccを仮定）[m^3/mol]"
      ],
      "metadata": {
        "id": "nI8dMp6wYOK8"
      },
      "execution_count": 9,
      "outputs": []
    },
    {
      "cell_type": "code",
      "source": [
        "# s1場の変態歪の設定\n",
        "eta_s1 = np.zeros((4, 4))\n",
        "eta_s1[1, 1] = -0.06\n",
        "eta_s1[2, 2] = 0.06\n",
        "eta_s1[3, 3] = 0.0"
      ],
      "metadata": {
        "id": "Q6Z4DMDvYVsS"
      },
      "execution_count": 10,
      "outputs": []
    },
    {
      "cell_type": "code",
      "source": [
        "# s2場の変態歪の設定\n",
        "eta_s2 = np.zeros((4, 4))\n",
        "eta_s2[1, 1] = eta_s1[2, 2]\n",
        "eta_s2[2, 2] = eta_s1[1, 1]\n",
        "eta_s2[3, 3] = 0.0"
      ],
      "metadata": {
        "id": "S8tE_7vlYX3c"
      },
      "execution_count": 11,
      "outputs": []
    },
    {
      "cell_type": "code",
      "source": [
        "# 弾性定数(Fe(fcc)の場合)\n",
        "el_fac = 1.0e+11 * vm0 / RR / temp\n",
        "c11 = 1.54 * el_fac\n",
        "c44 = 0.77 * el_fac\n",
        "c12 = 1.22 * el_fac\n",
        "# c12=c11-2.0*c44\n",
        "lam0 = c12\n",
        "mu0 = c44  # ラーメの定数\n",
        "nu0 = lam0 / 2.0 / (lam0 + mu0)  # ポアソン比"
      ],
      "metadata": {
        "id": "iVzPOJonYaHT"
      },
      "execution_count": 12,
      "outputs": []
    },
    {
      "cell_type": "code",
      "source": [
        "# 外力の設定\n",
        "sig22_a = 0.0  # ここでは外力を0に設定\n",
        "# sig22_a = 0.1\n",
        "ep11_a = -lam0 / 4.0 / mu0 / (lam0 + mu0) * sig22_a  # 平面歪を想定\n",
        "ep22_a = (lam0 + 2.0 * mu0) / 4.0 / mu0 / (lam0 + mu0) * sig22_a\n",
        "ep12_a = ep21_a = 0.0"
      ],
      "metadata": {
        "id": "ZywMdBVYYegs"
      },
      "execution_count": 13,
      "outputs": []
    },
    {
      "cell_type": "code",
      "source": [
        "# 逆空間の演算で使用する数値の準備\n",
        "jj, ii = np.meshgrid(np.fft.fftfreq(nd), np.fft.fftfreq(nd))  # ii, jj の二次元配列を準備(順番に注意)\n",
        "alnn = (ii ** 2 + jj ** 2) ** 0.5\n",
        "alnn[alnn == 0] = 1.0\n",
        "nxx = (ii / alnn) ** 2\n",
        "nyy = (jj / alnn) ** 2\n",
        "Z11ep = nxx * (2.0 * (1.0 - nu0) - nxx - nu0 / (1.0 - nu0) * nyy) / (1.0 - 2.0 * nu0)  # 計算ループ中で不変の部分を計算しておく\n",
        "Z12ep = nxx * (2.0 * nu0 - nyy - nu0 / (1.0 - nu0) * nxx) / (1.0 - 2.0 * nu0)\n",
        "Z21ep = nyy * (2.0 * nu0 - nxx - nu0 / (1.0 - nu0) * nyy) / (1.0 - 2.0 * nu0)\n",
        "Z22ep = nyy * (2.0 * (1.0 - nu0) - nyy - nu0 / (1.0 - nu0) * nxx) / (1.0 - 2.0 * nu0)"
      ],
      "metadata": {
        "id": "sGUfck9RYhkA"
      },
      "execution_count": 14,
      "outputs": []
    },
    {
      "cell_type": "code",
      "source": [
        "# 初期場の生成\n",
        "s1, s2 = init()"
      ],
      "metadata": {
        "id": "r6DZoewIYl1q"
      },
      "execution_count": 15,
      "outputs": []
    },
    {
      "cell_type": "code",
      "source": [
        "for time1 in range(time1max):\n",
        "    s1, s2 = step(s1, s2)  # 濃度場の更新\n",
        "\n",
        "    if time1 % 50 == 0:  # 50タイムステップごとに描画\n",
        "        # 色の管理用のflagを計算\n",
        "        flag0 = s1 >= 0.\n",
        "        flag1 = s2 >= 0.\n",
        "\n",
        "        # 色の計算\n",
        "        c1r = np.where(flag0, s1, 0.)\n",
        "        c1g = 0.\n",
        "        c1b = np.where(flag0, 0., -s1)\n",
        "        c2r = np.where(flag1, 0., -s2)\n",
        "        c2g = np.abs(s2)\n",
        "        c2b = 0.\n",
        "\n",
        "        # 描画用の配列を生成\n",
        "        draw = np.dstack((c1r + c2r, c1g + c2g, c1b + c2b))\n",
        "        draw = np.clip(draw, 0, 1)\n",
        "\n",
        "        plt.clf()  # 描画内容クリア\n",
        "        plt.imshow(draw)  # 濃度場の描画\n",
        "        plt.pause(0.1)  # 0.1秒間表示"
      ],
      "metadata": {
        "id": "9H-b9e9nY7xx"
      },
      "execution_count": null,
      "outputs": []
    }
  ]
}